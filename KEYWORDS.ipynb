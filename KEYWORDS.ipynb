{
  "nbformat": 4,
  "nbformat_minor": 0,
  "metadata": {
    "colab": {
      "provenance": []
    },
    "kernelspec": {
      "name": "python3",
      "display_name": "Python 3"
    },
    "language_info": {
      "name": "python"
    }
  },
  "cells": [
    {
      "cell_type": "code",
      "execution_count": 1,
      "metadata": {
        "colab": {
          "base_uri": "https://localhost:8080/"
        },
        "id": "Nlfq-XEVkvBs",
        "outputId": "85521d2c-0677-42ab-f61a-6957d21129ee"
      },
      "outputs": [
        {
          "output_type": "stream",
          "name": "stdout",
          "text": [
            "Looking in indexes: https://pypi.org/simple, https://us-python.pkg.dev/colab-wheels/public/simple/\n",
            "Collecting python-rake==1.4.4\n",
            "  Downloading python-rake-1.4.4.tar.gz (10 kB)\n",
            "  Preparing metadata (setup.py) ... \u001b[?25l\u001b[?25hdone\n",
            "Building wheels for collected packages: python-rake\n",
            "  Building wheel for python-rake (setup.py) ... \u001b[?25l\u001b[?25hdone\n",
            "  Created wheel for python-rake: filename=python_rake-1.4.4-py3-none-any.whl size=13456 sha256=1f7267674c29bb76ecf2e7b36156b8e65586cc1244a904c1da2283e2d1b1f1f3\n",
            "  Stored in directory: /root/.cache/pip/wheels/7a/dd/2f/e16099449134869d4a9a96c94092dc0101d7a3cc25c309f8e2\n",
            "Successfully built python-rake\n",
            "Installing collected packages: python-rake\n",
            "Successfully installed python-rake-1.4.4\n"
          ]
        }
      ],
      "source": [
        "!pip install python-rake==1.4.4"
      ]
    },
    {
      "cell_type": "code",
      "source": [
        "import RAKE\n",
        "import operator\n",
        "# import nltk\n",
        "# nltk.download('stopwords')\n",
        "# from nltk.tokenize import word_tokenize\n",
        "# sw=set(stopwords.words('english'))"
      ],
      "metadata": {
        "id": "Ju-aR06ik5Db"
      },
      "execution_count": 2,
      "outputs": []
    },
    {
      "cell_type": "code",
      "source": [
        "stop_dir='stopwords.txt'\n",
        "rake_object = RAKE.Rake(stop_dir)"
      ],
      "metadata": {
        "id": "jvAE7j-kk8pY"
      },
      "execution_count": 4,
      "outputs": []
    },
    {
      "cell_type": "code",
      "source": [],
      "metadata": {
        "id": "ubwPlFuylUDM"
      },
      "execution_count": null,
      "outputs": []
    },
    {
      "cell_type": "code",
      "source": [
        "def Sort_Tuple(tup):\n",
        "  tup.sort(key=lambda x:x[1])\n",
        "  return tup"
      ],
      "metadata": {
        "id": "6CCV6unWjiG_"
      },
      "execution_count": 5,
      "outputs": []
    },
    {
      "cell_type": "code",
      "source": [
        "ARTICLE = \"\"\"\n",
        "What is Seed Germination?\n",
        "Seed germination may be defined as the fundamental process by which different plant species grow from a single seed into a plant. This process influences both crop yield and quality.\n",
        "A common example of seed germination is the sprouting of a seedling from a seed of an angiosperm or gymnosperm.\n",
        "The Process of Seed Germination\n",
        "The complete process of seed germination is carried out in the following steps:\n",
        "During the beginning stage of germination, the seeds take up water rapidly and this results in swelling and softening of the seed coat at an optimum temperature. This stage is referred to as Imbibition. It starts the growth process by activation of enzymes. The seed activates its internal physiology and starts to respire and produce proteins and metabolizes the stored food. This is a lag phase of seed germination.\n",
        "By rupturing of the seed coat, radicle emerges to form a primary root. The seed starts absorbing underground water. After the emerging of the radicle and the plumule, shoot starts growing upwards.\n",
        "In the final stage of seed germination, the cell of the seeds become metabolically active, elongates and divides to give rise to the seedling.\n",
        "Conditions Necessary for Seed Germination\n",
        "Here are some important requirements which are essential for a seed to germinate into a seedling and to a plant.\n",
        "Water: It is extremely necessary for the germination of seeds. Some seeds are extremely dry and need to take a considerable amount of water, relative to the dry weight of the seed. Water plays an important role in seed germination. It helps by providing necessary hydration for the vital activities of protoplasm, provides dissolved oxygen for the growing embryo, softens the seed coats and increases the seed permeability. It also helps in the rupturing of seed and also converts the insoluble food into soluble form for its translocation to the embryo.\n",
        "Oxygen: It is an important and essential source of energy required for seed growth. It is required by the germinating seed for metabolism and is used as a part of aerobic respiration until it manages to grow green leaves of its own. Oxygen can be found in the pores of soil particles, but if the seed is buried too deep it will be deprived of this oxygen.\n",
        "Temperature: For a seed to germinate, it requires a moderate temperature of around 25-30°C. Quite obviously different seeds require different optimum temperatures. There are some seeds which require special requirements either lower or higher temperature between 5 to 40°C.\n",
        "Light or darkness: This can act as an environmental trigger. Many seeds do not germinate until sunlight falls on them.\n",
        "The process of seed germination triggers under the above mentioned favourable conditions. The seeds undergo rapid expansion and growth of the embryo and subsequently rupturing the covering layers and emergence of the radicle. This radicle emergence is considered the completion of germination.\n",
        "Factors Affecting Seed Germination\n",
        "There are some major factors that affect seed germination. These include:\n",
        "External Factors\n",
        "Water: The poor or additional supply of water affects seed germination.\n",
        "Temperature: This affects the growth rate as well as the metabolism of the seed.\n",
        "Oxygen: Germinating seeds respire vigorously and release the energy required for their growth. Therefore, deficiency of oxygen affects seed germination.\n",
        "In certain cases, a temperature below the moderate level slows down seed germination and promotes fungal growth. In some cases, germination stops at the temperature above the moderate level.\n",
        "Internal Factors\n",
        "Seed Dormancy\n",
        "This is a condition in which the seeds are prevented from germinating even under favourable conditions.\n",
        "During seed dormancy:\n",
        "The seed coat, which is resistant to water and gases, restricts water-uptake and oxygen exchange.\n",
        "The seeds with undeveloped or immature embryo do not germinate.\n",
        "Certain seeds contain plant growth regulators, which inhibit seed germination.\n",
        "Some seeds require more time for their germination.\n",
        "\"\"\"\n",
        "  "
      ],
      "metadata": {
        "id": "wFFd3KRUlUQm"
      },
      "execution_count": 6,
      "outputs": []
    },
    {
      "cell_type": "code",
      "source": [
        "keywords = Sort_Tuple(rake_object.run(ARTICLE))\n",
        "print(\"keywords:\",keywords)"
      ],
      "metadata": {
        "colab": {
          "base_uri": "https://localhost:8080/"
        },
        "id": "6JdOOAJwlYm5",
        "outputId": "94576c50-6db7-4e3c-a66d-f2a6cfd94aec"
      },
      "execution_count": 8,
      "outputs": [
        {
          "output_type": "stream",
          "name": "stdout",
          "text": [
            "keywords: [('25-30°', 0), ('5', 0), ('40°', 0), ('defined', 1.0), ('quality', 1.0), ('common', 1.0), ('sprouting', 1.0), ('seedling', 1.0), ('angiosperm', 1.0), ('gymnosperm', 1.0), ('carried', 1.0), ('steps', 1.0), ('results', 1.0), ('swelling', 1.0), ('softening', 1.0), ('referred', 1.0), ('imbibition', 1.0), ('activation', 1.0), ('enzymes', 1.0), ('metabolizes', 1.0), ('emerging', 1.0), ('plumule', 1.0), ('cell', 1.0), ('elongates', 1.0), ('divides', 1.0), ('germinate', 1.0), ('relative', 1.0), ('helps', 1.0), ('providing', 1.0), ('hydration', 1.0), ('protoplasm', 1.0), ('softens', 1.0), ('increases', 1.0), ('converts', 1.0), ('translocation', 1.0), ('metabolism', 1.0), ('part', 1.0), ('manages', 1.0), ('found', 1.0), ('pores', 1.0), ('buried', 1.0), ('deep', 1.0), ('deprived', 1.0), ('requires', 1.0), ('lower', 1.0), ('light', 1.0), ('darkness', 1.0), ('act', 1.0), ('considered', 1.0), ('completion', 1.0), ('include', 1.0), ('poor', 1.0), ('release', 1.0), ('deficiency', 1.0), ('cases', 1.0), ('condition', 1.0), ('prevented', 1.0), ('resistant', 1.0), ('gases', 1.0), ('undeveloped', 1.0), ('time', 1.0), ('rupturing', 1.3333333333333333), ('temperature', 1.4285714285714286), ('form', 1.5), ('radicle', 1.5), ('essential', 1.5), ('extremely', 1.5), ('embryo', 1.5), ('emergence', 1.5), ('seeds', 1.6153846153846154), ('process', 1.6666666666666667), ('stage', 1.6666666666666667), ('important', 1.6666666666666667), ('required', 1.6666666666666667), ('oxygen', 1.7142857142857142), ('plant', 2.0), ('conditions', 2.0), ('growth', 2.0), ('seed', 2.2), ('germination', 2.238095238095238), ('germinating', 2.3333333333333335), ('water', 2.4444444444444446), ('respire', 2.5), ('starts', 2.75), ('radicle emergence', 3.0), ('affects', 3.0), ('subsequently rupturing', 3.333333333333333), ('optimum temperature', 3.428571428571429), ('higher temperature', 3.428571428571429), ('radicle emerges', 3.5), ('extremely dry', 3.5), ('soluble form', 3.5), ('essential source', 3.5), ('immature embryo', 3.5), ('fundamental process', 3.666666666666667), ('process influences', 3.666666666666667), ('complete process', 3.666666666666667), ('beginning stage', 3.666666666666667), ('growth process', 3.666666666666667), ('final stage', 3.666666666666667), ('important role', 3.666666666666667), ('energy required', 3.666666666666667), ('dissolved oxygen', 3.7142857142857144), ('oxygen exchange', 3.7142857142857144), ('moderate temperature', 3.761904761904762), ('seeds require', 3.948717948717949), ('crop yield', 4.0), ('produce proteins', 4.0), ('stored food', 4.0), ('lag phase', 4.0), ('primary root', 4.0), ('metabolically active', 4.0), ('give rise', 4.0), ('considerable amount', 4.0), ('dry weight', 4.0), ('vital activities', 4.0), ('insoluble food', 4.0), ('aerobic respiration', 4.0), ('soil particles', 4.0), ('optimum temperatures', 4.0), ('environmental trigger', 4.0), ('sunlight falls', 4.0), ('covering layers', 4.0), ('additional supply', 4.0), ('growth rate', 4.0), ('important requirements', 4.166666666666667), ('single seed', 4.2), ('seed coat', 4.2), ('seed activates', 4.2), ('seed coats', 4.2), ('seed permeability', 4.2), ('seed growth', 4.2), ('germination stops', 4.238095238095238), ('seed germination', 4.438095238095238), ('water rapidly', 4.444444444444445), ('water plays', 4.444444444444445), ('growing embryo', 4.5), ('favourable conditions', 4.5), ('germinating seed', 4.533333333333333), ('moderate level', 4.833333333333334), ('internal physiology', 5.0), ('seed dormancy', 5.2), ('major factors', 5.25), ('plant growth regulators', 7.0), ('seed germination triggers', 7.438095238095238), ('affect seed germination', 7.438095238095238), ('inhibit seed germination', 7.438095238095238), ('mentioned favourable conditions', 7.5), ('require special requirements', 7.833333333333334), ('moderate level slows', 7.833333333333334), ('plant species grow', 8.0), ('promotes fungal growth', 8.0), ('restricts water-uptake', 8.444444444444445), ('external factors\\nwater', 8.694444444444445), ('grow green leaves', 9.0), ('oxygen affects seed germination', 9.152380952380952), ('water affects seed germination', 9.882539682539683), ('germinating seeds respire vigorously', 10.448717948717949), ('internal factors\\nseed dormancy', 11.45), ('factors affecting seed germination', 11.688095238095237), ('seeds undergo rapid expansion', 13.615384615384615), ('shoot starts growing upwards', 13.75), ('seed starts absorbing underground water', 17.394444444444446)]\n"
          ]
        }
      ]
    },
    {
      "cell_type": "code",
      "source": [],
      "metadata": {
        "id": "GQLDFOQym67y"
      },
      "execution_count": null,
      "outputs": []
    }
  ]
}