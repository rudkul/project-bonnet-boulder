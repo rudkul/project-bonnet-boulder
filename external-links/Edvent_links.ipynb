{
  "nbformat": 4,
  "nbformat_minor": 0,
  "metadata": {
    "colab": {
      "provenance": []
    },
    "kernelspec": {
      "name": "python3",
      "display_name": "Python 3"
    },
    "language_info": {
      "name": "python"
    }
  },
  "cells": [
    {
      "cell_type": "code",
      "execution_count": 17,
      "metadata": {
        "colab": {
          "base_uri": "https://localhost:8080/"
        },
        "id": "Zioan_HAFE-y",
        "outputId": "add9611e-678b-4cfd-c4a5-c9e67041162f"
      },
      "outputs": [
        {
          "output_type": "stream",
          "name": "stdout",
          "text": [
            "https://www.sciencedirect.com/topics/agricultural-and-biological-sciences/seed-germination\n",
            "https://www.howweelearn.com/seed-germination-kids-results/\n",
            "https://sitesmedia.s3.amazonaws.com/creekconnections/files/2014/12/Germination.pdf\n",
            "https://www.ck12.org/c/biology/dormancy-and-germination/lesson/Seed-Dormancy-and-Germination-Advanced-BIO-ADV/\n",
            "https://www.teacherspayteachers.com/Browse/Search:germination%2520reading\n",
            "https://www.morningagclips.com/the-simple-trials-of-seed-germination/\n",
            "https://extension.psu.edu/seed-and-seedling-biology\n",
            "https://www.britannica.com/science/germination\n",
            "https://hilo.hawaii.edu/affiliates/prism/documents/lesson6seedgermination.pdf\n",
            "https://naldc.nal.usda.gov/download/41278/PDF\n",
            "https://support.google.com/websearch%3Fp%3Dws_settings_location%26hl%3Den\n",
            "https://accounts.google.com/ServiceLogin%3Fcontinue%3Dhttps://www.google.com/search%253Fq%253Dseed%252Bgermination%252Bfurther%252Breading%26hl%3Den\n"
          ]
        }
      ],
      "source": [
        "import requests\n",
        "from bs4 import BeautifulSoup\n",
        "\n",
        "keyphrase=\"seed germination\".replace(\" \",\"+\")\n",
        "query=keyphrase+\"+further+reading\"\n",
        "\n",
        " \n",
        " \n",
        "url = 'https://www.google.com/search?q='+query\n",
        "reqs = requests.get(url)\n",
        "soup = BeautifulSoup(reqs.text, 'html.parser')\n",
        " \n",
        "urls = []\n",
        "for entry in soup.find_all('a'):\n",
        "    link=str(entry)\n",
        "    if link[:16]==\"<a href=\\\"/url?q=\":\n",
        "      i=link.index(\"&\")\n",
        "      print(link[16:i])"
      ]
    }
  ]
}